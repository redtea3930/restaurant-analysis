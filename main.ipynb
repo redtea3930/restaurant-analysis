{
 "cells": [
  {
   "cell_type": "code",
   "execution_count": 3,
   "id": "90157305-6522-4f86-87bf-58d472bbf7a3",
   "metadata": {
    "tags": []
   },
   "outputs": [],
   "source": [
    "from pathlib import Path\n",
    "import csv\n",
    "\n",
    "filepath = Path(\"menu_data.csv\")\n",
    "menu = []\n",
    "with open(filepath, 'r') as file:\n",
    "    header = next(file)\n",
    "    csvreader = csv.reader(file, delimiter=',')\n",
    "    for row in csvreader:\n",
    "        menu.append(row)\n",
    "\n",
    "filepath = Path(\"sales_data.csv\")\n",
    "sales = []\n",
    "with open(filepath, 'r') as file:\n",
    "    header = next(file)\n",
    "    csvreader = csv.reader(file, delimiter=',')\n",
    "    for row in csvreader:\n",
    "        sales.append(row)\n",
    "\n",
    "report = {}\n",
    "for row in menu:\n",
    "    category = row[1]   \n",
    "    if category == \"entree\":\n",
    "        ramen_type = row[0]\n",
    "        price = float(row[3])\n",
    "        cost = float(row[4])\n",
    "        count = 0.0\n",
    "        for row in sales:\n",
    "            menu_item = row[4]\n",
    "            if menu_item == ramen_type:\n",
    "                quantity = float(row[3])\n",
    "                count += quantity\n",
    "        report[ramen_type] = {\n",
    "            \"01-count\" : count, \n",
    "            \"02-revenue\" : price * count, \n",
    "            \"03-cogs\" : cost * count ,\n",
    "            \"04-profit\" : count * (price - cost)\n",
    "        }\n",
    "\n",
    "ramen_report = Path(\"ramen_test.txt\")\n",
    "with open(ramen_report, 'w') as file:\n",
    "    file.write(str(report))"
   ]
  },
  {
   "cell_type": "code",
   "execution_count": null,
   "id": "3ee583de-7307-4b86-b1d3-b09062354bcf",
   "metadata": {
    "scrolled": true
   },
   "outputs": [],
   "source": [
    "for row in sales: \n",
    "    Line_Item_ID = float(row[0])\n",
    "    quantity = float(row[3])\n",
    "    menu_item = row[4]\n",
    "    if Line_Item_ID in report:\n",
    "        print(\"Line_Item already in report\")\n",
    "    else:\n",
    "        report[Line_Item_ID] = {\n",
    "    \"01-count\": 0,\n",
    "    \"02-revenue\": 0,\n",
    "    \"03-cogs\": 0,\n",
    "    \"04-profit\": 0,\n",
    "    }   \n",
    "    for row in menu:\n",
    "        item = row[0]\n",
    "        price = float(row[3])\n",
    "        cost = float(row[4])\n",
    "        if menu_item == item:\n",
    "            profit = quantity * price - cost\n",
    "            report[Line_Item_ID][\"01-count\"] += quantity\n",
    "            report[Line_Item_ID][\"02-revenue\"] += price * quantity\n",
    "            report[Line_Item_ID][\"03-cogs\"] += cost * quantity\n",
    "            report[Line_Item_ID][\"04-profit\"] += profit * quantity\n",
    "        else:\n",
    "            print(f\"{menu_item} does not equal {item}! NO MATCH!\")"
   ]
  },
  {
   "cell_type": "code",
   "execution_count": null,
   "id": "6a09502e-9ed2-4823-801b-648a7f2aabc1",
   "metadata": {},
   "outputs": [],
   "source": []
  }
 ],
 "metadata": {
  "kernelspec": {
   "display_name": "Python 3 (ipykernel)",
   "language": "python",
   "name": "python3"
  },
  "language_info": {
   "codemirror_mode": {
    "name": "ipython",
    "version": 3
   },
   "file_extension": ".py",
   "mimetype": "text/x-python",
   "name": "python",
   "nbconvert_exporter": "python",
   "pygments_lexer": "ipython3",
   "version": "3.7.13"
  }
 },
 "nbformat": 4,
 "nbformat_minor": 5
}
