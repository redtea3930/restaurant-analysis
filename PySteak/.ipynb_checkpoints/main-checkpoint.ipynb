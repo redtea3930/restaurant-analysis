{
 "cells": [
  {
   "cell_type": "code",
   "execution_count": 22,
   "id": "f152c99f-6ae7-4492-81e3-074feecaf253",
   "metadata": {
    "tags": []
   },
   "outputs": [],
   "source": [
    "#Basic library imports\n",
    "from pathlib import Path\n",
    "import csv\n",
    "\n",
    "#Use Path function to bring in raw data, remove headers and store as lists\n",
    "filepath = Path(\"menu_data.csv\")\n",
    "menu = []\n",
    "with open(filepath, 'r') as file:\n",
    "    header = next(file)\n",
    "    csvreader = csv.reader(file, delimiter=',')\n",
    "    for row in csvreader:\n",
    "        menu.append(row)\n",
    "\n",
    "filepath = Path(\"sales_data.csv\")\n",
    "sales = []\n",
    "with open(filepath, 'r') as file:\n",
    "    header = next(file)\n",
    "    csvreader = csv.reader(file, delimiter=',')\n",
    "    for row in csvreader:\n",
    "        sales.append(row)\n",
    "\n",
    "#Create empty dictionary to store output\n",
    "report = {}\n",
    "\n",
    "#Nested loop/condiitonal to identifiy entree-type items from menu and extract their name, price\n",
    "#and production cost; then scan sales data for how many sales there were of that item; \n",
    "#then calculate the revenue and profit, and then store output to the dictionary created above\n",
    "for row in menu:\n",
    "    category = row[1]   \n",
    "    if category == \"entree\":\n",
    "        ramen_type = row[0]\n",
    "        price = float(row[3])\n",
    "        cost = float(row[4])\n",
    "        count = 0.0\n",
    "        for row in sales:\n",
    "            menu_item = row[4]\n",
    "            if menu_item == ramen_type:\n",
    "                quantity = float(row[3])\n",
    "                count += quantity\n",
    "        report[ramen_type] = {\n",
    "            \"01-count\" : count, \n",
    "            \"02-revenue\" : price * count, \n",
    "            \"03-cogs\" : cost * count ,\n",
    "            \"04-profit\" : count * (price - cost)\n",
    "        }\n",
    "\n",
    "#Create text file to store output, use item function to print keys and values of created\n",
    "#dictionary.\n",
    "ramen_report = Path(\"ramen_test.txt\")\n",
    "with open(ramen_report, 'w') as file:\n",
    "    for k, v in report.items():\n",
    "        file.write(str(k))\n",
    "        file.write(str(v))\n",
    "        file.write('\\n')"
   ]
  },
  {
   "cell_type": "code",
   "execution_count": null,
   "id": "6a09502e-9ed2-4823-801b-648a7f2aabc1",
   "metadata": {},
   "outputs": [],
   "source": []
  }
 ],
 "metadata": {
  "kernelspec": {
   "display_name": "Python 3 (ipykernel)",
   "language": "python",
   "name": "python3"
  },
  "language_info": {
   "codemirror_mode": {
    "name": "ipython",
    "version": 3
   },
   "file_extension": ".py",
   "mimetype": "text/x-python",
   "name": "python",
   "nbconvert_exporter": "python",
   "pygments_lexer": "ipython3",
   "version": "3.7.13"
  }
 },
 "nbformat": 4,
 "nbformat_minor": 5
}
